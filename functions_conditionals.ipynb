{
 "cells": [
  {
   "cell_type": "markdown",
   "id": "326b33ac",
   "metadata": {},
   "source": [
    "# Conditionals, functions and randomization\n"
   ]
  },
  {
   "cell_type": "markdown",
   "id": "52d3a280",
   "metadata": {},
   "source": [
    "## About this exercise\n",
    "\n",
    "This exercise is an edited version of a lab from [the Berkeley data science\n",
    "course](https://github.com/data-8/data8assets/tree/gh-pages/materials/su17/lab/lab05)\n",
    "with thanks.  If you make a new version of this original, please note that this\n",
    "exercise has a [CC-BY-NC\n",
    "license](http://creativecommons.org/licenses/by-nc/4.0/); remember to give\n",
    "attribution to the original authors from the repository above.\n"
   ]
  },
  {
   "cell_type": "markdown",
   "id": "656c8ca9",
   "metadata": {},
   "source": [
    "## Getting started\n",
    "\n",
    "In this exercise we will go over conditionals and iteration, and discuss the\n",
    "concept of randomness.\n",
    "\n",
    "First, set up the tests and imports by running the cell below."
   ]
  },
  {
   "cell_type": "code",
   "execution_count": null,
   "id": "893eee3f",
   "metadata": {},
   "outputs": [],
   "source": [
    "import numpy as np\n",
    "\n",
    "# A Numpy random number generator.\n",
    "rng = np.random.default_rng()\n",
    "\n",
    "import pandas as pd\n",
    "\n",
    "# Ask Pandas to make a copy under the hood, when needed.\n",
    "pd.set_option('mode.copy_on_write', True)\n",
    "\n",
    "# These lines load the tests.\n",
    "from client.api.notebook import Notebook\n",
    "ok = Notebook('functions_conditionals.ok')"
   ]
  },
  {
   "cell_type": "markdown",
   "id": "29fa2e78",
   "metadata": {},
   "source": [
    "## 1. Nachos and Conditionals"
   ]
  },
  {
   "cell_type": "markdown",
   "id": "05fa79fd",
   "metadata": {},
   "source": [
    "In Python, Boolean values can either be `True` or `False`. We get Boolean\n",
    "values when using comparison operators, among which are `<` (less than), `>`\n",
    "(greater than), and `==` (equal to). For a complete list, refer to [Booleans\n",
    "and Comparison](https://lisds.github.io/textbook/data-types/Comparison).\n",
    "\n",
    "Run the cell below to see an example of a comparison operator in action."
   ]
  },
  {
   "cell_type": "code",
   "execution_count": null,
   "id": "ee181277",
   "metadata": {},
   "outputs": [],
   "source": [
    "3 > 1 + 1"
   ]
  },
  {
   "cell_type": "markdown",
   "id": "7ed72058",
   "metadata": {},
   "source": [
    "We can even assign the result of a comparison operation to a variable."
   ]
  },
  {
   "cell_type": "code",
   "execution_count": null,
   "id": "37cf46ca",
   "metadata": {},
   "outputs": [],
   "source": [
    "result = 10 / 2 == 5\n",
    "result"
   ]
  },
  {
   "cell_type": "markdown",
   "id": "66b794a7",
   "metadata": {},
   "source": [
    "Arrays are compatible with comparison operators. The output is an array of Boolean values."
   ]
  },
  {
   "cell_type": "code",
   "execution_count": null,
   "id": "839f05a7",
   "metadata": {},
   "outputs": [],
   "source": [
    "np.array([1, 5, 7, 8, 3, -1]) > 3"
   ]
  },
  {
   "cell_type": "markdown",
   "id": "a9d38f08",
   "metadata": {},
   "source": [
    "Waiting on the dining table just for you is a hot bowl of nachos! Let's say\n",
    "that whenever you take a nacho, it will have cheese, salsa, both, or neither\n",
    "(just a plain tortilla chip).\n",
    "\n",
    "Using the function call `rng.choice(array_name)`, let's simulate taking\n",
    "nachos from the bowl at random. Start by running the cell below several times,\n",
    "and observe how the results change."
   ]
  },
  {
   "cell_type": "code",
   "execution_count": null,
   "id": "8a17c543",
   "metadata": {},
   "outputs": [],
   "source": [
    "nachos = np.array(['cheese', 'salsa', 'both', 'neither'])\n",
    "rng.choice(nachos)"
   ]
  },
  {
   "cell_type": "markdown",
   "id": "5d00db13",
   "metadata": {},
   "source": [
    "**Question 1.** Assume we took ten nachos at random, and stored the results in\n",
    "an array called `ten_nachos`. Find the number of nachos with only cheese using\n",
    "code (do not hardcode the answer).\n",
    "\n",
    "*Hint:* Our solution involves a comparison operator and the `np.count_nonzero`\n",
    "method."
   ]
  },
  {
   "cell_type": "code",
   "execution_count": null,
   "id": "8d615110",
   "metadata": {},
   "outputs": [],
   "source": [
    "ten_nachos = np.array(['neither', 'cheese', 'both', 'both', 'cheese', 'salsa',\n",
    "                       'both', 'neither', 'cheese', 'both'])\n",
    "number_cheese = ...\n",
    "number_cheese"
   ]
  },
  {
   "cell_type": "code",
   "execution_count": null,
   "id": "73218943",
   "metadata": {},
   "outputs": [],
   "source": [
    "_ = ok.grade('q1_1')"
   ]
  },
  {
   "cell_type": "markdown",
   "id": "98d73ae0",
   "metadata": {},
   "source": [
    "**Conditional Statements**\n",
    "\n",
    "A conditional statement is made up of many lines that allow Python to choose\n",
    "from different alternatives based on whether some condition is true.\n",
    "\n",
    "Here is a basic example."
   ]
  },
  {
   "cell_type": "code",
   "execution_count": null,
   "id": "4fcd4ace",
   "metadata": {},
   "outputs": [],
   "source": [
    "def sign(x):\n",
    "    if x > 0:\n",
    "        return 'Positive'"
   ]
  },
  {
   "cell_type": "markdown",
   "id": "9787b685",
   "metadata": {},
   "source": [
    "How the function works is if the input `x` is greater than `0`, we get the\n",
    "string `'Positive'` back.\n",
    "\n",
    "If we want to test multiple conditions at once, we use the following general\n",
    "format.\n",
    "\n",
    "```\n",
    "if <if expression>:\n",
    "    <if body>\n",
    "elif <elif expression 0>:\n",
    "    <elif body 0>\n",
    "elif <elif expression 1>:\n",
    "    <elif body 1>\n",
    "...\n",
    "else:\n",
    "    <else body>\n",
    "```\n",
    "\n",
    "Only one of the bodies will ever be executed. Each `if` and `elif` expression\n",
    "is evaluated and considered in order, starting at the top. As soon as a true\n",
    "value is found, the corresponding body is executed, and the rest of the\n",
    "expression is skipped. If none of the `if` or `elif` expressions are true, then\n",
    "the `else body` is executed. For more examples and explanation, refer to\n",
    "[conditionals](https://lisds.github.io/textbook/functions-conditionals/conditional_statements)."
   ]
  },
  {
   "cell_type": "markdown",
   "id": "3de53024",
   "metadata": {},
   "source": [
    "**Question 2.** Complete the following conditional statement so that the\n",
    "string `'More please'` is assigned to `say_please` if the number of nachos\n",
    "with cheese alone in `ten_nachos` is less than `5`."
   ]
  },
  {
   "cell_type": "code",
   "execution_count": null,
   "id": "099e94f3",
   "metadata": {},
   "outputs": [],
   "source": [
    "say_please = '?'\n",
    "\n",
    "if ...\n",
    "    say_please = 'More please'\n",
    "\n",
    "say_please"
   ]
  },
  {
   "cell_type": "code",
   "execution_count": null,
   "id": "dd92e24e",
   "metadata": {},
   "outputs": [],
   "source": [
    "_ = ok.grade('q1_2')"
   ]
  },
  {
   "cell_type": "markdown",
   "id": "3bdc9448",
   "metadata": {},
   "source": [
    "**Question 3.** Write a function called `nacho_reaction` that returns a string based on the type of nacho passed in. From top to bottom, the conditions should correspond to: `'cheese'`, `'salsa'`, `'both'`, `'neither'`."
   ]
  },
  {
   "cell_type": "code",
   "execution_count": null,
   "id": "e52a8af5",
   "metadata": {},
   "outputs": [],
   "source": [
    "def nacho_reaction(nacho):\n",
    "    if ...:\n",
    "        return 'Cheesy!'\n",
    "    #- next condition should return 'Spicy!'\n",
    "    ...\n",
    "    #- next condition should return 'Wow!'\n",
    "    ...\n",
    "    #- next condition should return 'Meh.'\n",
    "    ...\n",
    "\n",
    "spicy_nacho = nacho_reaction('salsa')\n",
    "spicy_nacho"
   ]
  },
  {
   "cell_type": "code",
   "execution_count": null,
   "id": "6ed69f22",
   "metadata": {},
   "outputs": [],
   "source": [
    "_ = ok.grade('q1_3')"
   ]
  },
  {
   "cell_type": "markdown",
   "id": "b38ac800",
   "metadata": {},
   "source": [
    "**Question 4.** Add a column `'Reactions'` to the table `ten_nachos_reactions`\n",
    "that consists of reactions for each of the nachos in `ten_nachos`. \n",
    "\n",
    "*Hint:* Use the `apply` method."
   ]
  },
  {
   "cell_type": "code",
   "execution_count": null,
   "id": "b0bda915",
   "metadata": {},
   "outputs": [],
   "source": [
    "ten_nachos_reactions = pd.DataFrame()\n",
    "ten_nachos_reactions['Nachos'] = ten_nachos\n",
    "...\n",
    "ten_nachos_reactions"
   ]
  },
  {
   "cell_type": "code",
   "execution_count": null,
   "id": "1b8df108",
   "metadata": {},
   "outputs": [],
   "source": [
    "_ = ok.grade('q1_4')"
   ]
  },
  {
   "cell_type": "markdown",
   "id": "79606b22",
   "metadata": {},
   "source": [
    "**Question 5.** Using code, find the number of `'Wow!'` reactions for the nachos in `ten_nachos_reactions`."
   ]
  },
  {
   "cell_type": "code",
   "execution_count": null,
   "id": "2afcf48b",
   "metadata": {},
   "outputs": [],
   "source": [
    "number_wow_reactions = ..."
   ]
  },
  {
   "cell_type": "code",
   "execution_count": null,
   "id": "aa86ae26",
   "metadata": {},
   "outputs": [],
   "source": [
    "_ = ok.grade('q1_5')"
   ]
  },
  {
   "cell_type": "markdown",
   "id": "385ef87d",
   "metadata": {},
   "source": [
    "**Question 7.** Complete the function `both_or_neither`, which takes in a table\n",
    "of nachos with reactions (just like the one from Question 4) and returns\n",
    "`'Wow!'` if there are more nachos with both cheese and salsa, or `'Meh.'` if\n",
    "there are more nachos with neither. If there are an equal number of each,\n",
    "return `'Okay!'`."
   ]
  },
  {
   "cell_type": "code",
   "execution_count": null,
   "id": "81a522ce",
   "metadata": {},
   "outputs": [],
   "source": [
    "def both_or_neither(nacho_table):\n",
    "    reactions = ...\n",
    "    number_wow_reactions = ...\n",
    "    number_meh_reactions = ...\n",
    "    if ...:\n",
    "        return 'Wow!'\n",
    "    #- next condition should return 'Meh.'\n",
    "    ...\n",
    "    #- next condition should return 'Okay!'\n",
    "    ...\n",
    "many_nachos = pd.DataFrame()\n",
    "many_nachos['Nachos'] = rng.choice(nachos, 250)\n",
    "many_nachos['Reactions'] = many_nachos['Nachos'].apply(nacho_reaction)\n",
    "nacho_result = both_or_neither(many_nachos)\n",
    "nacho_result"
   ]
  },
  {
   "cell_type": "code",
   "execution_count": null,
   "id": "898740b8",
   "metadata": {},
   "outputs": [],
   "source": [
    "_ = ok.grade('q1_7')"
   ]
  },
  {
   "cell_type": "markdown",
   "id": "740c9f95",
   "metadata": {},
   "source": [
    "## 2. Iteration\n",
    "\n",
    "Using a `for` statement, we can perform a task multiple times. This is known as\n",
    "iteration. Here, we'll simulate drawing different suits from a deck of cards."
   ]
  },
  {
   "cell_type": "code",
   "execution_count": null,
   "id": "25bb6b6c",
   "metadata": {},
   "outputs": [],
   "source": [
    "# Run this cell\n",
    "suits = np.array([\"♤\", \"♡\", \"♢\", \"♧\"])\n",
    "\n",
    "n_repetitions = 6\n",
    "\n",
    "# Make an empty array to store the draws.\n",
    "draws = np.repeat([' '], n_repetitions)\n",
    "\n",
    "\n",
    "for i in np.arange(n_repetitions):\n",
    "    draws[i] = rng.choice(suits)\n",
    "\n",
    "draws"
   ]
  },
  {
   "cell_type": "markdown",
   "id": "d8a5d31c",
   "metadata": {},
   "source": [
    "In the example above, the `for` loop fills in a random draw to the `draws`\n",
    "array for every number in `np.arange(n_repetitions)`. Another use of iteration\n",
    "is to loop through a set of values. For instance, we can print out all of the\n",
    "colors of the rainbow."
   ]
  },
  {
   "cell_type": "code",
   "execution_count": null,
   "id": "9bcb0ebd",
   "metadata": {},
   "outputs": [],
   "source": [
    "rainbow = np.array([\"red\", \"orange\", \"yellow\", \"green\", \"blue\", \"indigo\", \"violet\"])\n",
    "\n",
    "for color in rainbow:\n",
    "    print(color)"
   ]
  },
  {
   "cell_type": "markdown",
   "id": "ff20692a",
   "metadata": {},
   "source": [
    "We can see that the indented part of the `for` loop, known as the body, is\n",
    "executed once for each item in `rainbow`. Note that the name `color` is\n",
    "arbitrary; we could easily have named it something else."
   ]
  },
  {
   "cell_type": "markdown",
   "id": "ad9f2f76",
   "metadata": {},
   "source": [
    "**Question 1.** Clay is playing darts. His dartboard contains ten equal-sized\n",
    "zones with point values from 1 to 10. Write code that simulates his total score\n",
    "after 1000 dart tosses. Make sure to use a `for` loop."
   ]
  },
  {
   "cell_type": "code",
   "execution_count": null,
   "id": "10bb9477",
   "metadata": {},
   "outputs": [],
   "source": [
    "possible_point_values = ...\n",
    "tosses = 1000\n",
    "total_score = ...\n",
    "for ...\n",
    "    ...\n",
    "total_score"
   ]
  },
  {
   "cell_type": "code",
   "execution_count": null,
   "id": "aa7f1aa3",
   "metadata": {},
   "outputs": [],
   "source": [
    "_ = ok.grade('q2_1')"
   ]
  },
  {
   "cell_type": "markdown",
   "id": "03f1aea2",
   "metadata": {},
   "source": [
    "**Question 2.** What is the average point value of a dart thrown by Clay?"
   ]
  },
  {
   "cell_type": "code",
   "execution_count": null,
   "id": "40c64221",
   "metadata": {},
   "outputs": [],
   "source": [
    "average_score = ...\n",
    "average_score"
   ]
  },
  {
   "cell_type": "code",
   "execution_count": null,
   "id": "d53f267b",
   "metadata": {},
   "outputs": [],
   "source": [
    "_ = ok.grade('q2_2')"
   ]
  },
  {
   "cell_type": "markdown",
   "id": "ed52b046",
   "metadata": {},
   "source": [
    "**Question 3.** In the following cell, we've loaded the text of _Pride and\n",
    "Prejudice_ by Jane Austen, split it into individual words, and stored these\n",
    "words in an array. Using a `for` loop, assign `longer_than_five` to the number\n",
    "of words in the novel that are more than 5 letters long.\n",
    "\n",
    "*Hint*: You can find the number of letters in a word with the `len` function."
   ]
  },
  {
   "cell_type": "code",
   "execution_count": null,
   "id": "3084b624",
   "metadata": {},
   "outputs": [],
   "source": [
    "# Load the text of Pride and Prejudice.\n",
    "austen_string = open('Austen_PrideAndPrejudice.txt', encoding='utf-8').read()\n",
    "# Make array containing words.\n",
    "p_and_p_words = np.array(austen_string.split())\n",
    "longer_than_five = ...\n",
    "longer_than_five"
   ]
  },
  {
   "cell_type": "code",
   "execution_count": null,
   "id": "c16a6c2c",
   "metadata": {},
   "outputs": [],
   "source": [
    "_ = ok.grade('q2_3')"
   ]
  },
  {
   "cell_type": "markdown",
   "id": "4a91d06a",
   "metadata": {},
   "source": [
    "**Question 4.** Using simulation with 10,000 trials, assign\n",
    "`chance_of_all_different` to an estimate of the chance that if you pick three\n",
    "words from Pride and Prejudice uniformly at random (with replacement), they all\n",
    "have different lengths.\n",
    "\n",
    "*Hint 1*: Investigate the help for `rng.choice`.\n",
    "\n",
    "*Hint 2*: Remember that `!=` only checks for non-equality between two items, not\n",
    "three. However, you can use `!=` more than once in the same line, combined with\n",
    "`and`.\n",
    "\n",
    "For example, `(2 != 3) and (3 != 4)` first checks for non-equality between `2`\n",
    "and `3`, then `3` and `4`. It does *not* check non-equality between `2` and `4`."
   ]
  },
  {
   "cell_type": "code",
   "execution_count": null,
   "id": "e420ab36",
   "metadata": {},
   "outputs": [],
   "source": [
    "trials = 10000\n",
    "different = ...\n",
    "different = np.zeros(trials)\n",
    "for ... in ...:\n",
    "    ...\n",
    "\n",
    "chance_of_all_different = ...\n",
    "chance_of_all_different"
   ]
  },
  {
   "cell_type": "code",
   "execution_count": null,
   "id": "6cfce516",
   "metadata": {},
   "outputs": [],
   "source": [
    "_ = ok.grade('q2_4')"
   ]
  },
  {
   "cell_type": "markdown",
   "id": "1f89e45a",
   "metadata": {},
   "source": [
    "## Done\n",
    "\n",
    "You're finished with the assignment!  Be sure to...\n",
    "\n",
    "- **run all the tests** (the next cell has a shortcut for that),\n",
    "- **Save and Checkpoint** from the \"File\" menu."
   ]
  },
  {
   "cell_type": "code",
   "execution_count": null,
   "id": "4ef8a7ad",
   "metadata": {},
   "outputs": [],
   "source": [
    "# For your convenience, you can run this cell to run all the tests at once!\n",
    "import os\n",
    "_ = [ok.grade(q[:-3]) for q in sorted(os.listdir(\"tests\")) if q.startswith('q')]"
   ]
  }
 ],
 "metadata": {
  "jupytext": {
   "split_at_heading": true,
   "text_representation": {
    "extension": ".Rmd",
    "format_name": "rmarkdown",
    "format_version": "1.1",
    "jupytext_version": "1.2.4"
   }
  },
  "kernelspec": {
   "display_name": "Python 3",
   "language": "python",
   "name": "python3"
  }
 },
 "nbformat": 4,
 "nbformat_minor": 5
}
